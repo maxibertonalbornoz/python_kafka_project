{
 "cells": [
  {
   "cell_type": "code",
   "execution_count": 13,
   "id": "initial_id",
   "metadata": {
    "collapsed": true,
    "ExecuteTime": {
     "end_time": "2023-08-29T14:31:40.593216Z",
     "start_time": "2023-08-29T14:31:40.580590Z"
    }
   },
   "outputs": [
    {
     "data": {
      "text/plain": "True"
     },
     "execution_count": 13,
     "metadata": {},
     "output_type": "execute_result"
    }
   ],
   "source": [
    "from kafka import KafkaProducer\n",
    "import json\n",
    "from yahoo_fin.stock_info import get_data\n",
    "from time import sleep\n",
    "\n",
    "import os\n",
    "from dotenv import load_dotenv\n",
    "load_dotenv()"
   ]
  },
  {
   "cell_type": "markdown",
   "source": [
    "# Kafka Producer creation"
   ],
   "metadata": {
    "collapsed": false
   },
   "id": "efe878f992611988"
  },
  {
   "cell_type": "code",
   "execution_count": 14,
   "outputs": [],
   "source": [
    "producer = KafkaProducer(bootstrap_servers=['18.119.159.115:9092'], value_serializer=lambda x: json.dumps(x).encode('utf-8'))"
   ],
   "metadata": {
    "collapsed": false,
    "ExecuteTime": {
     "end_time": "2023-08-29T14:31:41.078019Z",
     "start_time": "2023-08-29T14:31:40.589318Z"
    }
   },
   "id": "124d5baad6fc1bb0"
  },
  {
   "cell_type": "markdown",
   "source": [
    "# AAPL's market data that's going to be send it to the consumer"
   ],
   "metadata": {
    "collapsed": false
   },
   "id": "1db5f417b308a977"
  },
  {
   "cell_type": "code",
   "execution_count": 15,
   "outputs": [
    {
     "data": {
      "text/plain": "                 open       high        low      close   adjclose     volume  \\\n2019-01-01  38.722500  39.712502  35.500000  36.982498  35.542973  966947200   \n2019-01-08  37.389999  38.632500  37.130001  37.500000  36.040325  725470000   \n2019-01-15  37.567501  39.470001  37.512501  39.205002  37.678963  491411200   \n2019-01-22  39.102501  39.532501  37.924999  39.075001  37.554020  554774800   \n2019-01-29  39.062500  42.915001  38.527500  42.812500  41.146030  830400800   \n\n           ticker  \n2019-01-01   AAPL  \n2019-01-08   AAPL  \n2019-01-15   AAPL  \n2019-01-22   AAPL  \n2019-01-29   AAPL  ",
      "text/html": "<div>\n<style scoped>\n    .dataframe tbody tr th:only-of-type {\n        vertical-align: middle;\n    }\n\n    .dataframe tbody tr th {\n        vertical-align: top;\n    }\n\n    .dataframe thead th {\n        text-align: right;\n    }\n</style>\n<table border=\"1\" class=\"dataframe\">\n  <thead>\n    <tr style=\"text-align: right;\">\n      <th></th>\n      <th>open</th>\n      <th>high</th>\n      <th>low</th>\n      <th>close</th>\n      <th>adjclose</th>\n      <th>volume</th>\n      <th>ticker</th>\n    </tr>\n  </thead>\n  <tbody>\n    <tr>\n      <th>2019-01-01</th>\n      <td>38.722500</td>\n      <td>39.712502</td>\n      <td>35.500000</td>\n      <td>36.982498</td>\n      <td>35.542973</td>\n      <td>966947200</td>\n      <td>AAPL</td>\n    </tr>\n    <tr>\n      <th>2019-01-08</th>\n      <td>37.389999</td>\n      <td>38.632500</td>\n      <td>37.130001</td>\n      <td>37.500000</td>\n      <td>36.040325</td>\n      <td>725470000</td>\n      <td>AAPL</td>\n    </tr>\n    <tr>\n      <th>2019-01-15</th>\n      <td>37.567501</td>\n      <td>39.470001</td>\n      <td>37.512501</td>\n      <td>39.205002</td>\n      <td>37.678963</td>\n      <td>491411200</td>\n      <td>AAPL</td>\n    </tr>\n    <tr>\n      <th>2019-01-22</th>\n      <td>39.102501</td>\n      <td>39.532501</td>\n      <td>37.924999</td>\n      <td>39.075001</td>\n      <td>37.554020</td>\n      <td>554774800</td>\n      <td>AAPL</td>\n    </tr>\n    <tr>\n      <th>2019-01-29</th>\n      <td>39.062500</td>\n      <td>42.915001</td>\n      <td>38.527500</td>\n      <td>42.812500</td>\n      <td>41.146030</td>\n      <td>830400800</td>\n      <td>AAPL</td>\n    </tr>\n  </tbody>\n</table>\n</div>"
     },
     "execution_count": 15,
     "metadata": {},
     "output_type": "execute_result"
    }
   ],
   "source": [
    "df = get_data('AAPL', start_date='01/01/2019', end_date='01/01/2020', index_as_date = True, interval=\"1wk\")\n",
    "df.head()"
   ],
   "metadata": {
    "collapsed": false,
    "ExecuteTime": {
     "end_time": "2023-08-29T14:31:41.475177Z",
     "start_time": "2023-08-29T14:31:41.078501Z"
    }
   },
   "id": "bc021e72b825a517"
  },
  {
   "cell_type": "code",
   "execution_count": 16,
   "outputs": [
    {
     "data": {
      "text/plain": "[{'open': 72.48249816894531,\n  'high': 73.41999816894531,\n  'low': 72.37999725341797,\n  'close': 73.4124984741211,\n  'adjclose': 71.61502838134766,\n  'volume': 100805600,\n  'ticker': 'AAPL'}]"
     },
     "execution_count": 16,
     "metadata": {},
     "output_type": "execute_result"
    }
   ],
   "source": [
    "df.sample(1).to_dict(orient='records')"
   ],
   "metadata": {
    "collapsed": false,
    "ExecuteTime": {
     "end_time": "2023-08-29T14:31:41.475416Z",
     "start_time": "2023-08-29T14:31:41.471520Z"
    }
   },
   "id": "5881ca906bf3746e"
  },
  {
   "cell_type": "markdown",
   "source": [
    "# Sends the data to the consumer"
   ],
   "metadata": {
    "collapsed": false
   },
   "id": "982920b2d8a2aa0c"
  },
  {
   "cell_type": "code",
   "execution_count": 18,
   "outputs": [],
   "source": [
    "producer.flush()\n",
    "x = 0\n",
    "while True:\n",
    "    dict_stock = df.sample(1).to_dict(orient='records')[0]\n",
    "    producer.send(os.environ.get('KAFKA_TOPIC_NAME'), value=dict_stock)\n",
    "    sleep(1)\n",
    "    x += 1  \n",
    "    if x == 5:\n",
    "        break"
   ],
   "metadata": {
    "collapsed": false,
    "ExecuteTime": {
     "end_time": "2023-08-29T14:32:03.318992Z",
     "start_time": "2023-08-29T14:31:58.288924Z"
    }
   },
   "id": "2cb96c3205ff2b9e"
  },
  {
   "cell_type": "code",
   "execution_count": 17,
   "outputs": [],
   "source": [],
   "metadata": {
    "collapsed": false,
    "ExecuteTime": {
     "end_time": "2023-08-29T14:31:46.508283Z",
     "start_time": "2023-08-29T14:31:46.507210Z"
    }
   },
   "id": "8ab0939361fc080f"
  }
 ],
 "metadata": {
  "kernelspec": {
   "display_name": "Python 3",
   "language": "python",
   "name": "python3"
  },
  "language_info": {
   "codemirror_mode": {
    "name": "ipython",
    "version": 2
   },
   "file_extension": ".py",
   "mimetype": "text/x-python",
   "name": "python",
   "nbconvert_exporter": "python",
   "pygments_lexer": "ipython2",
   "version": "2.7.6"
  }
 },
 "nbformat": 4,
 "nbformat_minor": 5
}
